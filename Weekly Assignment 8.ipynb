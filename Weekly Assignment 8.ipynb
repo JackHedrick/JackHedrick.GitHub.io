{
 "cells": [
  {
   "cell_type": "code",
   "execution_count": 2,
   "metadata": {},
   "outputs": [],
   "source": [
    "import csv\n",
    "\n",
    "def make_data_point(line, header):\n",
    "    output = {}\n",
    "    for index, header_item in enumerate(header):\n",
    "        output[header_item] = line[index]\n",
    "    return output\n",
    "\n",
    "with open(\"denver-1.nov.csv\") as inf:\n",
    "    reader = csv.reader(inf)\n",
    "    header = next(reader)\n",
    "    all_data = []\n",
    "    for line in reader:\n",
    "        all_data.append(make_data_point(line, header))"
   ]
  },
  {
   "cell_type": "code",
   "execution_count": 29,
   "metadata": {},
   "outputs": [],
   "source": [
    "from collections import defaultdict\n",
    "\n",
    "# this stores a dictionary mapping each precinct to a list of data\n",
    "# from that precinct\n",
    "byprecinct = defaultdict(list)  \n",
    "for line in all_data:\n",
    "    byprecinct[line[\"precinct\"]].append(line)\n",
    "byprecinct   \n",
    "locations = []\n",
    "\n",
    "for item in all_data:\n",
    "    locations.append(item[\"location\"])\n",
    "        \n",
    "#byprecinct  \n",
    "#print (locations)"
   ]
  },
  {
   "cell_type": "code",
   "execution_count": 31,
   "metadata": {},
   "outputs": [
    {
     "name": "stdout",
     "output_type": "stream",
     "text": [
      "[('E COLFAX AVE / N VALENTIA ST', 19), ('E COLFAX AVE / N PENNSYLVANIA ST', 17), ('PARK AVE W / LAWRENCE ST', 17), ('I25 SB / S UNIVERSITY BLVD', 16), ('E 39TH AVE / N PEORIA ST', 16), ('I70 EB / N PEORIA ST', 14), ('E 40TH AVE / N HAVANA ST', 13), ('E COLFAX AVE / N DOWNING ST', 12), ('I25 SB / 20TH ST', 12), ('E BRUCE RANDOLPH AVE / N YORK ST', 12)]\n"
     ]
    }
   ],
   "source": [
    "from collections import Counter\n",
    "words_to_count = (word for word in locations if word[:1].isupper())\n",
    "c = Counter(words_to_count)\n",
    "print (c.most_common(10))"
   ]
  },
  {
   "cell_type": "code",
   "execution_count": null,
   "metadata": {},
   "outputs": [],
   "source": []
  }
 ],
 "metadata": {
  "kernelspec": {
   "display_name": "Python 3",
   "language": "python",
   "name": "python3"
  },
  "language_info": {
   "codemirror_mode": {
    "name": "ipython",
    "version": 3
   },
   "file_extension": ".py",
   "mimetype": "text/x-python",
   "name": "python",
   "nbconvert_exporter": "python",
   "pygments_lexer": "ipython3",
   "version": "3.8.2"
  }
 },
 "nbformat": 4,
 "nbformat_minor": 4
}
